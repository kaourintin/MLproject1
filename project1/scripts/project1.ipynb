{
 "cells": [
  {
   "cell_type": "code",
   "execution_count": 8,
   "metadata": {
    "tags": []
   },
   "outputs": [
    {
     "name": "stdout",
     "output_type": "stream",
     "text": [
      "The autoreload extension is already loaded. To reload it, use:\n",
      "  %reload_ext autoreload\n"
     ]
    }
   ],
   "source": [
    "# Useful starting lines\n",
    "%matplotlib inline\n",
    "import numpy as np\n",
    "import matplotlib.pyplot as plt\n",
    "%load_ext autoreload\n",
    "%autoreload 2      "
   ]
  },
  {
   "cell_type": "markdown",
   "metadata": {},
   "source": [
    "## Load the training data into feature matrix, class labels, and event ids:"
   ]
  },
  {
   "cell_type": "code",
   "execution_count": 10,
   "metadata": {
    "collapsed": false,
    "jupyter": {
     "outputs_hidden": false
    }
   },
   "outputs": [
    {
     "name": "stdout",
     "output_type": "stream",
     "text": [
      "finished\n"
     ]
    }
   ],
   "source": [
    "from proj1_helpers import *\n",
    "DATA_TRAIN_PATH = '/home/ML_course/projects/project1/data/train.csv' # TODO: download train data and supply path here \n",
    "y, tX, ids = load_csv_data(DATA_TRAIN_PATH)\n",
    "\n",
    "def clean_data(tX):\n",
    "    tX[tX == -999] = np.NaN\n",
    "    mean = np.nanmean(tX,axis=0)\n",
    "    inds = np.where(np.isnan(tX))    \n",
    "    tX[inds]= np.take(mean, inds[1])\n",
    "    \n",
    "    std= np.std(tX,axis=0)\n",
    "    newMean = np.nanmean(tX,axis=0)\n",
    "    \n",
    "    return (tX-newMean)/std\n",
    "\n",
    "tX = clean_data(tX)\n",
    "print(\"finished\")\n",
    "\n"
   ]
  },
  {
   "cell_type": "markdown",
   "metadata": {},
   "source": [
    "## Do your thing crazy machine learning thing here :) ..."
   ]
  },
  {
   "cell_type": "code",
   "execution_count": null,
   "metadata": {},
   "outputs": [
    {
     "name": "stdout",
     "output_type": "stream",
     "text": [
      "starting log reg\n",
      "Current iteration=0, loss=[[173286.79513999]]\n",
      "[[173286.79513999]]\n",
      "[[757410.53075652]]\n",
      "[[1351729.03707184]]\n",
      "[[832235.66327436]]\n",
      "[[708891.44281223]]\n",
      "[[672148.93953854]]\n",
      "[[1448497.39311261]]\n",
      "[[832797.63972686]]\n",
      "[[676393.01478276]]\n",
      "[[953377.49752063]]\n",
      "[[876001.10048611]]\n",
      "[[1185062.98935831]]\n",
      "[[829903.05017679]]\n",
      "[[755773.29691489]]\n",
      "[[766961.84976436]]\n",
      "[[1348019.02451361]]\n",
      "[[798801.05927728]]\n",
      "[[757361.95280349]]\n",
      "[[725379.87990973]]\n",
      "[[1320078.21299722]]\n",
      "[[809214.12287752]]\n"
     ]
    }
   ],
   "source": [
    "def calculate_mse(e):\n",
    "   return 1/2*np.mean(e**2)\n",
    "\n",
    "\n",
    "def compute_gradient(y, tx, w):\n",
    "    err = y - tx.dot(w)\n",
    "    grad = -tx.T.dot(err) / len(err)\n",
    "    return grad, err\n",
    "\n",
    "\n",
    "\n",
    "############################### Linear regression with gradient descent################################   \n",
    "\n",
    "def least_squares_GD(y, tx, initial_w, max_iters, gamma):\n",
    "    ws = [initial_w]\n",
    "    y= y.reshape(y.shape[0],1)\n",
    "    losses = []\n",
    "    w = initial_w\n",
    "    for n_iter in range(max_iters):\n",
    "        grad, err = compute_gradient(y, tx, w)\n",
    "        loss = calculate_mse(err)\n",
    "        w = w - gamma * grad\n",
    "        ws.append(w)\n",
    "        losses.append(loss)\n",
    "        print(\"Gradient Descent({bi}/{ti}): loss={l}, w0={w0}, w1={w1}, w1={w1}, w1={w1}\".format(\n",
    "        bi=n_iter, ti=max_iters - 1, l=loss, w0=w[0], w1=w[1]))\n",
    "    return losses, ws\n",
    "\n",
    "#least_squares_GD(y, tX, np.full((30,1),0.00001), 100, 0.001)\n",
    "\n",
    "\n",
    "######## least squares ##################################################################################\n",
    "def least_square(y,tx):\n",
    "    s= tx.T.dot(tx)\n",
    "    t = tx.T.dot(y)\n",
    "    return np.linalg.solve(s, t)\n",
    "\n",
    "\n",
    "################################# Linear regression with SGD ###########################################\n",
    "\n",
    "def batch_iter(y, tx, batch_size, num_batches=1, shuffle=True):\n",
    "    \"\"\"\n",
    "    Generate a minibatch iterator for a dataset.\n",
    "    Takes as input two iterables (here the output desired values 'y' and the input data 'tx')\n",
    "    Outputs an iterator which gives mini-batches of `batch_size` matching elements from `y` and `tx`.\n",
    "    Data can be randomly shuffled to avoid ordering in the original data messing with the randomness of the minibatches.\n",
    "    Example of use :\n",
    "    for minibatch_y, minibatch_tx in batch_iter(y, tx, 32):\n",
    "        <DO-SOMETHING>\n",
    "    \"\"\"\n",
    "    data_size = len(y)\n",
    "\n",
    "    if shuffle:\n",
    "        shuffle_indices = np.random.permutation(np.arange(data_size))\n",
    "        shuffled_y = y[shuffle_indices]\n",
    "        shuffled_tx = tx[shuffle_indices]\n",
    "    else:\n",
    "        shuffled_y = y\n",
    "        shuffled_tx = tx\n",
    "    for batch_num in range(num_batches):\n",
    "        start_index = batch_num * batch_size\n",
    "        end_index = min((batch_num + 1) * batch_size, data_size)\n",
    "        if start_index != end_index:\n",
    "            yield shuffled_y[start_index:end_index], shuffled_tx[start_index:end_index]\n",
    "\n",
    "\n",
    "def stochastic_gradient_descent(\n",
    "        y, tx, initial_w, batch_size, max_iters, gamma):\n",
    "    \"\"\"Stochastic gradient descent.\"\"\"\n",
    "    # Define parameters to store w and loss\n",
    "    ws = [initial_w]\n",
    "    losses = []\n",
    "    w = initial_w\n",
    "    y= y.reshape(y.shape[0],1)\n",
    "    for n_iter in range(max_iters):\n",
    "        for y_batch, tx_batch in batch_iter(y, tx, batch_size=batch_size, num_batches=1):\n",
    "            # compute a stochastic gradient and loss\n",
    "            grad, _ = compute_gradient(y_batch, tx_batch, w)\n",
    "            # update w through the stochastic gradient update\n",
    "            w = w - gamma * grad\n",
    "            # calculate loss\n",
    "            e = y - tx.dot(w)\n",
    "            loss = calculate_mse(e)\n",
    "            # store w and loss\n",
    "            ws.append(w)\n",
    "            losses.append(loss)\n",
    "\n",
    "        print(\"SGD({bi}/{ti}): loss={l}, w0={w0}, w1={w1}\".format(\n",
    "              bi=n_iter, ti=max_iters - 1, l=loss, w0=w[0], w1=w[1]))\n",
    "    return losses, ws\n",
    "\n",
    "#stochastic_gradient_descent(y, tX, np.full((30,1),0.00001),4, 100, 0.00001)\n",
    "\n",
    "################################## Ridge regression ##############################################\n",
    "\n",
    "\n",
    "def ridge_regression_solve(y, tx, lambda_):\n",
    "    aI = 2 * tx.shape[0] * lambda_ * np.identity(tx.shape[1])\n",
    "    a = tx.T.dot(tx) + aI\n",
    "    b = tx.T.dot(y)\n",
    "    return np.linalg.solve(a, b)\n",
    "\n",
    "def ridge_regression(y, tx, lambda_ ):\n",
    "    y= y.reshape(y.shape[0],1)\n",
    "    w = ridge_regression_solve(y, tx, lambda_)\n",
    "    err = y - tx.dot(w)\n",
    "    rmse = np.sqrt(2 * calculate_mse(err))\n",
    "    return rmse, w\n",
    "    \n",
    "\n",
    "        \n",
    "#lambdas = np.logspace(-5, 0, 15)\n",
    "#for ind, lambda_ in enumerate(lambdas):\n",
    " #   ridge_regression(y, tX,lambda_)\n",
    "\n",
    "    \n",
    "################################## Logisitic regression ##################################\n",
    "def sigmoid(t):\n",
    "    t[t<-10] = -10\n",
    "    sigmoid = 1/(1 +np.exp(-t)) \n",
    "    sigmoid[sigmoid == 1] = 0.9999\n",
    "    return sigmoid\n",
    "\n",
    "def calculate_loss(y, tx, w):\n",
    "    \n",
    "    sig = sigmoid(tx.dot(w))\n",
    "    \n",
    "    cost =  - (1-y).T.dot(np.log(1-sig)) - y.T.dot(np.log(sig))\n",
    "    return cost\n",
    "    \n",
    "\n",
    "def calculate_gradient_LR(y, tx, w):\n",
    "    \n",
    "    return tx.T.dot(sigmoid(tx.dot(w))- y)\n",
    "                               \n",
    "    \n",
    "def learning_by_gradient_descent(y, tx, w, gamma):\n",
    "    loss = calculate_loss(y, tx, w)\n",
    "    grad = calculate_gradient_LR(y,tx,w)\n",
    "    w = w- gamma * grad\n",
    "    \n",
    "    return loss, w\n",
    "\n",
    "def logistic_regression(y, tx, initial_w, max_iters, gamma):\n",
    "    y[y == -1] = 0 #because we have to have values between 0 and 1\n",
    "    threshold = 1e-8\n",
    "    losses = []\n",
    "    y= y.reshape(y.shape[0],1)\n",
    "    w = initial_w\n",
    "    # start the logistic regression\n",
    "    for iter in range(max_iters):\n",
    "        # get loss and update w.\n",
    "        loss, w = learning_by_gradient_descent(y, tx, w, gamma)\n",
    "        # log info\n",
    "        if iter % 100 == 0:\n",
    "            print(\"Current iteration={i}, loss={l}\".format(i=iter, l=loss))\n",
    "        # converge criterion\n",
    "        print(loss)\n",
    "        losses.append(loss)\n",
    "        if len(losses) > 1 and np.abs(losses[-1] - losses[-2]) < threshold:\n",
    "            break\n",
    "            \n",
    "    return loss, w\n",
    "    \n",
    "print(\"starting log reg\")\n",
    "logistic_regression(y, tX, np.zeros((tX.shape[1], 1)), 10000, 0.01)\n",
    "print(\"ending log reg\")\n",
    "################################## Logisitic regression with REgula##################################\n",
    "def penalized_logistic_regression(y, tx, w, lambda_):\n",
    "    num_samples = y.shape[0]\n",
    "    \n",
    "    loss = calculate_loss(y, tx, w) + lambda_ * np.squeeze(w.T.dot(w))\n",
    "    gradient = calculate_gradient_LR(y, tx, w) + 2 * lambda_ * w\n",
    "    return loss, gradient\n",
    "\n",
    "def learning_by_penalized_gradient(y, tx, w, gamma, lambda_):\n",
    "   \n",
    "    loss, gradient = penalized_logistic_regression(y, tx, w, lambda_)\n",
    "    w -= gamma * gradient\n",
    "    return loss, w\n",
    "\n",
    "def reg_logistic_regression(y, tx, lambda_ , initial_w, max_iters, gamma):\n",
    "    # init parameters\n",
    "    threshold = 1e-8\n",
    "    losses = []\n",
    "    w = initial_w\n",
    "    y = y.reshape(y.shape[0],1)\n",
    "    # start the logistic regression\n",
    "    for iter in range(max_iters):\n",
    "        # get loss and update w.\n",
    "        loss, w = learning_by_penalized_gradient(y, tx, w, gamma, lambda_)\n",
    "        # log info\n",
    "        if iter % 100 == 0:\n",
    "            print(\"Current iteration={i}, loss={l}\".format(i=iter, l=loss))\n",
    "        # converge criterion\n",
    "        losses.append(loss)\n",
    "        if len(losses) > 1 and np.abs(losses[-1] - losses[-2]) < threshold:\n",
    "            break\n",
    "    return losses,w \n",
    "\n",
    "#reg_logistic_regression(y, tX, 0.1, np.zeros((tX.shape[1], 1)), 10000, 0.01)"
   ]
  },
  {
   "cell_type": "markdown",
   "metadata": {},
   "source": [
    "## Generate predictions and save ouput in csv format for submission:"
   ]
  },
  {
   "cell_type": "code",
   "execution_count": null,
   "metadata": {
    "collapsed": false,
    "jupyter": {
     "outputs_hidden": false
    }
   },
   "outputs": [],
   "source": [
    "DATA_TEST_PATH = '' # TODO: download train data and supply path here \n",
    "_, tX_test, ids_test = load_csv_data(DATA_TEST_PATH)"
   ]
  },
  {
   "cell_type": "code",
   "execution_count": null,
   "metadata": {
    "collapsed": false,
    "jupyter": {
     "outputs_hidden": false
    }
   },
   "outputs": [],
   "source": [
    "OUTPUT_PATH = '' # TODO: fill in desired name of output file for submission\n",
    "y_pred = predict_labels(weights, tX_test)\n",
    "create_csv_submission(ids_test, y_pred, OUTPUT_PATH)"
   ]
  },
  {
   "cell_type": "code",
   "execution_count": null,
   "metadata": {
    "collapsed": true,
    "jupyter": {
     "outputs_hidden": true
    }
   },
   "outputs": [],
   "source": []
  }
 ],
 "metadata": {
  "anaconda-cloud": {},
  "interpreter": {
   "hash": "2f46dc9274ee3932e0f108b5497f3d5e8b675a9cadd6890a524ec505a688e6fd"
  },
  "kernelspec": {
   "display_name": "Python",
   "language": "python",
   "name": "python3"
  },
  "language_info": {
   "codemirror_mode": {
    "name": "ipython",
    "version": 3
   },
   "file_extension": ".py",
   "mimetype": "text/x-python",
   "name": "python",
   "nbconvert_exporter": "python",
   "pygments_lexer": "ipython3",
   "version": "3.8.10"
  }
 },
 "nbformat": 4,
 "nbformat_minor": 4
}
